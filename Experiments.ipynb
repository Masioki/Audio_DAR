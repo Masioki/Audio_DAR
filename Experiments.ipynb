{
 "cells": [
  {
   "metadata": {},
   "cell_type": "markdown",
   "source": [
    "**Before running locally you may want to set up .env file**  \n",
    "For details look at [README](README.md)"
   ],
   "id": "d258ee0e3c51a26a"
  },
  {
   "metadata": {},
   "cell_type": "markdown",
   "source": [
    "# Data preparation\n",
    "\n",
    "Convert datasets, calculate additional features and upload to Huggingface.  \n",
    "For specific dataset configuration look [here](config/datasets_config.py)"
   ],
   "id": "c57f97d34fabe6d0"
  },
  {
   "metadata": {},
   "cell_type": "code",
   "source": [
    "from config.datasets_config import Dataset\n",
    "from utils.datasets import get\n",
    "\n",
    "ds = get(Dataset.SLUE_HVB, allow_generation=True, force_regenerate=True)"
   ],
   "id": "9126303f9658651d",
   "outputs": [],
   "execution_count": null
  },
  {
   "metadata": {},
   "cell_type": "markdown",
   "source": "",
   "id": "880ac0fd45a39c8b"
  }
 ],
 "metadata": {
  "kernelspec": {
   "display_name": "Python 3",
   "language": "python",
   "name": "python3"
  },
  "language_info": {
   "codemirror_mode": {
    "name": "ipython",
    "version": 2
   },
   "file_extension": ".py",
   "mimetype": "text/x-python",
   "name": "python",
   "nbconvert_exporter": "python",
   "pygments_lexer": "ipython2",
   "version": "2.7.6"
  }
 },
 "nbformat": 4,
 "nbformat_minor": 5
}
